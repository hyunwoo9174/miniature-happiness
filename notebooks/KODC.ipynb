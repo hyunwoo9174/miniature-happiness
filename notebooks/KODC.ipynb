{
 "cells": [
  {
   "cell_type": "code",
   "execution_count": 4,
   "id": "1463ccc8-dd0a-40a7-83cf-bf1628e3b811",
   "metadata": {},
   "outputs": [],
   "source": [
    "from pathlib import Path"
   ]
  },
  {
   "cell_type": "code",
   "execution_count": 5,
   "id": "8018d51e-5815-4784-8a3e-7b205ec9b627",
   "metadata": {},
   "outputs": [],
   "source": [
    "import numpy as np"
   ]
  },
  {
   "cell_type": "code",
   "execution_count": 6,
   "id": "028de68f-b9d8-4def-beb8-c915c0300da9",
   "metadata": {},
   "outputs": [],
   "source": [
    "# Construct file path \n",
    "data_dir = Path.home() / \"miniature-happiness\" / \"data\" / \"NIFS\""
   ]
  },
  {
   "cell_type": "code",
   "execution_count": 7,
   "id": "bd98a043-fd6b-495d-a054-34b83b93ec23",
   "metadata": {},
   "outputs": [],
   "source": [
    "# Specify columns to read\n",
    "usecols = [1, 2, 3, 4, 5, 7, 8, 9, 10, 11, 12, 13, 14]"
   ]
  },
  {
   "cell_type": "code",
   "execution_count": 8,
   "id": "70d7dc79-a327-452f-a10b-710e11917c27",
   "metadata": {},
   "outputs": [],
   "source": [
    "# Define data types for each column\n",
    "dtype = [\n",
    "    ('Line', 'i4'),\n",
    "    ('Station', 'i4'),\n",
    "    ('Date', 'datetime64[D]'),\n",
    "    ('Latitude', 'f4'),\n",
    "    ('Longitude', 'f4'),\n",
    "    ('Depth', 'i4'),\n",
    "    ('Water_Temperature', 'f4'),\n",
    "    ('T_QC', 'i4'),\n",
    "    ('Salinity', 'f4'),\n",
    "    ('S_QC', 'i4'),\n",
    "    ('DO', 'f4'),\n",
    "    ('D_QC', 'i4'),\n",
    "    ('QC_LEVEL', 'i4')\n",
    "]"
   ]
  },
  {
   "cell_type": "code",
   "execution_count": 9,
   "id": "04490b4d-82e4-4fd1-8d8c-50a780399959",
   "metadata": {},
   "outputs": [],
   "source": [
    "# Load data\n",
    "data = np.genfromtxt(\n",
    "    fname,\n",
    "    usecols=usecols,\n",
    "    dtype=dtype,\n",
    "    delimiter=\"\\t\",\n",
    "    skip_header=1\n",
    ")"
   ]
  },
  {
   "cell_type": "code",
   "execution_count": 10,
   "id": "3e7e14b6-d09d-463d-91ea-44d80e0d58a1",
   "metadata": {},
   "outputs": [
    {
     "name": "stdout",
     "output_type": "stream",
     "text": [
      "[(102,  4, '1968-02-27', 36.0767, 129.615,   0,  8.3, 1, 34.51, 1, 6.22, 1, 1)\n",
      " (102,  4, '1968-02-27', 36.0767, 129.615,  10,  8.4, 1, 34.49, 1, 6.51, 1, 1)\n",
      " (102,  4, '1968-02-27', 36.0767, 129.615,  20,  8.3, 1, 34.51, 1, 6.59, 1, 1)\n",
      " ...\n",
      " (400, 27, '1968-12-10', 33.505 , 127.075,  75, 17.3, 1, 33.76, 1,  nan, 1, 1)\n",
      " (400, 27, '1968-12-10', 33.505 , 127.075, 100, 16.7, 1, 34.27, 1,  nan, 1, 1)\n",
      " (400, 27, '1968-12-10', 33.505 , 127.075, 115, 15.7, 1, 34.06, 1,  nan, 1, 1)]\n"
     ]
    }
   ],
   "source": [
    "print(data)"
   ]
  }
 ],
 "metadata": {
  "kernelspec": {
   "display_name": "Python 3 (ipykernel)",
   "language": "python",
   "name": "python3"
  },
  "language_info": {
   "codemirror_mode": {
    "name": "ipython",
    "version": 3
   },
   "file_extension": ".py",
   "mimetype": "text/x-python",
   "name": "python",
   "nbconvert_exporter": "python",
   "pygments_lexer": "ipython3",
   "version": "3.11.10"
  }
 },
 "nbformat": 4,
 "nbformat_minor": 5
}
